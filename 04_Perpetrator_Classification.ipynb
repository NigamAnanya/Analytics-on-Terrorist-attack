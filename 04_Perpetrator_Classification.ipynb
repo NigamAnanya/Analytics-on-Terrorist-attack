{
  "cells": [
    {
      "cell_type": "markdown",
      "metadata": {
        "id": "8zfIBlMChZ8G"
      },
      "source": [
        "# Predicting Terrorist Attacks\n",
        "## Perpetrator Classification\n",
        "\n",
        "**Author:** Ananya Nigam\n",
        "\n",
        "**Date:** 03 June 2024"
      ]
    },
    {
      "cell_type": "markdown",
      "metadata": {
        "id": "MaDlNXMOhZ8H"
      },
      "source": [
        "### Notebook Configuration"
      ]
    },
    {
      "cell_type": "code",
      "execution_count": null,
      "metadata": {
        "collapsed": true,
        "id": "t6-7x4OjhZ8H"
      },
      "outputs": [],
      "source": [
        "import time\n",
        "import collections\n",
        "\n",
        "import pandas as pd\n",
        "import numpy as np\n",
        "import matplotlib as mpl\n",
        "import matplotlib.pyplot as plt\n",
        "import seaborn as sns\n",
        "import warnings; warnings.simplefilter('ignore')\n",
        "\n",
        "from sklearn.preprocessing import scale\n",
        "from sklearn import preprocessing\n",
        "from sklearn.model_selection import train_test_split\n",
        "from sklearn.ensemble import RandomForestClassifier\n",
        "from sklearn.metrics import accuracy_score\n",
        "from sklearn.metrics import precision_score\n",
        "from sklearn.metrics import recall_score\n",
        "from sklearn.metrics import f1_score"
      ]
    },
    {
      "cell_type": "code",
      "execution_count": null,
      "metadata": {
        "collapsed": true,
        "id": "OD_1N8ElhZ8I"
      },
      "outputs": [],
      "source": [
        "# Display up to 150 rows and columns\n",
        "pd.set_option('display.max_rows', 220)\n",
        "pd.set_option('display.max_columns', 150)\n",
        "\n",
        "# Set the figure size for plots\n",
        "mpl.rcParams['figure.figsize'] = (14.6, 9.0)\n",
        "\n",
        "# Set the Seaborn default style for plots\n",
        "sns.set()\n",
        "\n",
        "# Set the color palette\n",
        "sns.set_palette(sns.color_palette(\"muted\"))"
      ]
    },
    {
      "cell_type": "markdown",
      "metadata": {
        "id": "QYEc_xpxhZ8I"
      },
      "source": [
        "### Load the Datasets\n",
        "Load the dataset created by the EDA notebook."
      ]
    },
    {
      "cell_type": "code",
      "execution_count": null,
      "metadata": {
        "collapsed": true,
        "id": "ResINaVMhZ8J"
      },
      "outputs": [],
      "source": [
        "# Load the preprocessed GTD dataset\n",
        "gtd_df = pd.read_csv('../data/gtd_eda_95t016.csv', low_memory=False, index_col = 0,\n",
        "                      na_values=[''])"
      ]
    },
    {
      "cell_type": "markdown",
      "metadata": {
        "id": "_3g91GM-hZ8J"
      },
      "source": [
        "### Inspect the Structure\n",
        "The cleansed data frame contains 48 attributes, one of which is used for the data frame index, and 110,844 observations."
      ]
    },
    {
      "cell_type": "code",
      "execution_count": null,
      "metadata": {
        "id": "RoE8NffAhZ8J",
        "outputId": "a7ae5843-c71e-4867-d13f-36cd81f1c7a6"
      },
      "outputs": [
        {
          "name": "stdout",
          "output_type": "stream",
          "text": [
            "<class 'pandas.core.frame.DataFrame'>\n",
            "Int64Index: 110844 entries, 199501000001 to 201701270001\n",
            "Data columns (total 48 columns):\n",
            "iyear               110844 non-null int64\n",
            "imonth              110844 non-null int64\n",
            "iday                110844 non-null int64\n",
            "country_txt         110844 non-null object\n",
            "region_txt          110844 non-null object\n",
            "provstate           110844 non-null object\n",
            "city                110844 non-null object\n",
            "latitude            110844 non-null float64\n",
            "longitude           110844 non-null float64\n",
            "specificity         110844 non-null float64\n",
            "summary             110844 non-null object\n",
            "attacktype1_txt     110844 non-null object\n",
            "targtype1_txt       110844 non-null object\n",
            "targsubtype1_txt    110844 non-null object\n",
            "corp1               110844 non-null object\n",
            "target1             110844 non-null object\n",
            "natlty1_txt         110844 non-null object\n",
            "gname               110844 non-null object\n",
            "nperpcap            110844 non-null float64\n",
            "weaptype1_txt       110844 non-null object\n",
            "weapsubtype1_txt    110844 non-null object\n",
            "nkill               110844 non-null float64\n",
            "nkillus             110844 non-null float64\n",
            "nkillter            110844 non-null float64\n",
            "nwound              110844 non-null float64\n",
            "nwoundus            110844 non-null float64\n",
            "nwoundte            110844 non-null float64\n",
            "scite1              110844 non-null object\n",
            "dbsource            110844 non-null object\n",
            "extended_txt        110844 non-null object\n",
            "vicinity_txt        110844 non-null object\n",
            "crit1_txt           110844 non-null object\n",
            "crit2_txt           110844 non-null object\n",
            "crit3_txt           110844 non-null object\n",
            "doubtterr_txt       110844 non-null object\n",
            "multiple_txt        110844 non-null object\n",
            "success_txt         110844 non-null object\n",
            "suicide_txt         110844 non-null object\n",
            "guncertain1_txt     110844 non-null object\n",
            "individual_txt      110844 non-null object\n",
            "claimed_txt         110844 non-null object\n",
            "property_txt        110844 non-null object\n",
            "ishostkid_txt       110844 non-null object\n",
            "INT_LOG_txt         110844 non-null object\n",
            "INT_IDEO_txt        110844 non-null object\n",
            "INT_MISC_txt        110844 non-null object\n",
            "INT_ANY_txt         110844 non-null object\n",
            "incident_date       110844 non-null object\n",
            "dtypes: float64(10), int64(3), object(35)\n",
            "memory usage: 41.4+ MB\n"
          ]
        }
      ],
      "source": [
        "# Display a summary of the data frame\n",
        "gtd_df.info(verbose = True)"
      ]
    },
    {
      "cell_type": "markdown",
      "metadata": {
        "id": "ksJFyQizhZ8K"
      },
      "source": [
        "### Convert Attributes to Correct Data Type\n",
        "Convert a subset of the data frame attributes to categorical, datatime and string to align with the GTD code book as executed previously in the EDA notebook."
      ]
    },
    {
      "cell_type": "code",
      "execution_count": null,
      "metadata": {
        "id": "TK1wl10yhZ8K",
        "outputId": "d6b2dea1-1b6d-4788-8aae-89246c49a9a7"
      },
      "outputs": [
        {
          "name": "stdout",
          "output_type": "stream",
          "text": [
            "<class 'pandas.core.frame.DataFrame'>\n",
            "Int64Index: 110844 entries, 199501000001 to 201701270001\n",
            "Data columns (total 48 columns):\n",
            "iyear               110844 non-null int64\n",
            "imonth              110844 non-null int64\n",
            "iday                110844 non-null int64\n",
            "country_txt         110844 non-null category\n",
            "region_txt          110844 non-null category\n",
            "provstate           110844 non-null object\n",
            "city                110844 non-null object\n",
            "latitude            110844 non-null float64\n",
            "longitude           110844 non-null float64\n",
            "specificity         110844 non-null category\n",
            "summary             110844 non-null object\n",
            "attacktype1_txt     110844 non-null category\n",
            "targtype1_txt       110844 non-null category\n",
            "targsubtype1_txt    110844 non-null category\n",
            "corp1               110844 non-null object\n",
            "target1             110844 non-null object\n",
            "natlty1_txt         110844 non-null category\n",
            "gname               110844 non-null object\n",
            "nperpcap            110844 non-null float64\n",
            "weaptype1_txt       110844 non-null category\n",
            "weapsubtype1_txt    110844 non-null category\n",
            "nkill               110844 non-null float64\n",
            "nkillus             110844 non-null float64\n",
            "nkillter            110844 non-null float64\n",
            "nwound              110844 non-null float64\n",
            "nwoundus            110844 non-null float64\n",
            "nwoundte            110844 non-null float64\n",
            "scite1              110844 non-null object\n",
            "dbsource            110844 non-null object\n",
            "extended_txt        110844 non-null category\n",
            "vicinity_txt        110844 non-null category\n",
            "crit1_txt           110844 non-null category\n",
            "crit2_txt           110844 non-null category\n",
            "crit3_txt           110844 non-null category\n",
            "doubtterr_txt       110844 non-null category\n",
            "multiple_txt        110844 non-null category\n",
            "success_txt         110844 non-null category\n",
            "suicide_txt         110844 non-null category\n",
            "guncertain1_txt     110844 non-null category\n",
            "individual_txt      110844 non-null category\n",
            "claimed_txt         110844 non-null category\n",
            "property_txt        110844 non-null category\n",
            "ishostkid_txt       110844 non-null category\n",
            "INT_LOG_txt         110844 non-null category\n",
            "INT_IDEO_txt        110844 non-null category\n",
            "INT_MISC_txt        110844 non-null category\n",
            "INT_ANY_txt         110844 non-null category\n",
            "incident_date       110844 non-null datetime64[ns]\n",
            "dtypes: category(27), datetime64[ns](1), float64(9), int64(3), object(8)\n",
            "memory usage: 21.7+ MB\n"
          ]
        }
      ],
      "source": [
        "# List of attributes that are categorical\n",
        "cat_attrs = ['extended_txt', 'country_txt', 'region_txt', 'specificity', 'vicinity_txt',\n",
        "             'crit1_txt', 'crit2_txt', 'crit3_txt', 'doubtterr_txt', 'multiple_txt',\n",
        "             'success_txt', 'suicide_txt', 'attacktype1_txt', 'targtype1_txt',\n",
        "             'targsubtype1_txt', 'natlty1_txt', 'guncertain1_txt', 'individual_txt',\n",
        "             'claimed_txt', 'weaptype1_txt', 'weapsubtype1_txt', 'property_txt',\n",
        "             'ishostkid_txt', 'INT_LOG_txt', 'INT_IDEO_txt','INT_MISC_txt', 'INT_ANY_txt']\n",
        "\n",
        "for cat in cat_attrs:\n",
        "    gtd_df[cat] = gtd_df[cat].astype('category')\n",
        "\n",
        "# Data time feature added during EDA\n",
        "gtd_df['incident_date'] = pd.to_datetime(gtd_df['incident_date'])\n",
        "\n",
        "# Necessary for label encoding below\n",
        "gtd_df['gname'] = gtd_df['gname'].astype('str')\n",
        "\n",
        "gtd_df.info(verbose = True)"
      ]
    },
    {
      "cell_type": "markdown",
      "metadata": {
        "id": "ZiR3CUm6hZ8K"
      },
      "source": [
        "### Find the Major Groups\n",
        "Get the list of terrorist groups that have 20 or more attacks."
      ]
    },
    {
      "cell_type": "code",
      "execution_count": null,
      "metadata": {
        "scrolled": false,
        "id": "mhM7FgfthZ8K",
        "outputId": "933aa17a-d841-4119-9af1-b4b1b56e1499"
      },
      "outputs": [
        {
          "data": {
            "text/plain": [
              "Unknown                                                         59531\n",
              "Taliban                                                          6558\n",
              "Islamic State of Iraq and the Levant (ISIL)                      4261\n",
              "Al-Shabaab                                                       2669\n",
              "Boko Haram                                                       2067\n",
              "Communist Party of India - Maoist (CPI-Maoist)                   1766\n",
              "Revolutionary Armed Forces of Colombia (FARC)                    1529\n",
              "New People's Army (NPA)                                          1444\n",
              "Maoists                                                          1411\n",
              "Kurdistan Workers' Party (PKK)                                   1255\n",
              "Tehrik-i-Taliban Pakistan (TTP)                                  1250\n",
              "Al-Qaida in the Arabian Peninsula (AQAP)                          966\n",
              "Liberation Tigers of Tamil Eelam (LTTE)                           950\n",
              "Houthi extremists (Ansar Allah)                                   862\n",
              "Al-Qaida in Iraq                                                  633\n",
              "Donetsk People's Republic                                         613\n",
              "National Liberation Army of Colombia (ELN)                        569\n",
              "Muslim extremists                                                 534\n",
              "Abu Sayyaf Group (ASG)                                            460\n",
              "Separatists                                                       454\n",
              "Fulani extremists                                                 431\n",
              "Palestinian Extremists                                            384\n",
              "Basque Fatherland and Freedom (ETA)                               369\n",
              "Algerian Islamic Extremists                                       366\n",
              "Moro Islamic Liberation Front (MILF)                              336\n",
              "Hamas (Islamic Resistance Movement)                               334\n",
              "Tripoli Province of the Islamic State                             327\n",
              "Chechen Rebels                                                    326\n",
              "Sinai Province of the Islamic State                               323\n",
              "Bangsamoro Islamic Freedom Movement (BIFM)                        320\n",
              "United Liberation Front of Assam (ULFA)                           314\n",
              "Baloch Republican Army (BRA)                                      298\n",
              "Lord's Resistance Army (LRA)                                      293\n",
              "Gunmen                                                            263\n",
              "Al-Nusrah Front                                                   263\n",
              "Al-Qaida in the Islamic Maghreb (AQIM)                            249\n",
              "Luhansk People's Republic                                         207\n",
              "Salafist Group for Preaching and Fighting (GSPC)                  207\n",
              "Janjaweed                                                         200\n",
              "Armed Islamic Group (GIA)                                         192\n",
              "Allied Democratic Forces (ADF)                                    191\n",
              "Corsican National Liberation Front (FLNC)                         175\n",
              "Al-Aqsa Martyrs Brigade                                           170\n",
              "Hezbollah                                                         169\n",
              "Baloch Liberation Army (BLA)                                      168\n",
              "Palestinian Islamic Jihad (PIJ)                                   166\n",
              "Khorasan Chapter of the Islamic State                             165\n",
              "National Democratic Front of Bodoland (NDFB)                      164\n",
              "Baloch Liberation Front (BLF)                                     160\n",
              "Garo National Liberation Army                                     158\n",
              "Lashkar-e-Taiba (LeT)                                             156\n",
              "Hutu extremists                                                   149\n",
              "Hizbul Mujahideen (HM)                                            147\n",
              "Al-Gama'at al-Islamiyya (IG)                                      146\n",
              "Runda Kumpulan Kecil (RKK)                                        146\n",
              "Islamic State of Iraq (ISI)                                       145\n",
              "Barqa Province of the Islamic State                               144\n",
              "Shining Path (SL)                                                 139\n",
              "Muslim Separatists                                                134\n",
              "National Union for the Total Independence of Angola (UNITA)       134\n",
              "Islamist extremists                                               129\n",
              "Muttahida Qami Movement (MQM)                                     124\n",
              "Tribesmen                                                         124\n",
              "Lashkar-e-Jhangvi                                                 122\n",
              "Lashkar-e-Islam (Pakistan)                                        117\n",
              "Free Syrian Army                                                  112\n",
              "Free Aceh Movement (GAM)                                          109\n",
              "Mozambique National Resistance Movement (MNR)                     107\n",
              "Democratic Front for the Liberation of Rwanda (FDLR)               94\n",
              "Pro Hartal Activists                                               92\n",
              "Dissident Republicans                                              91\n",
              "United Baloch Army (UBA)                                           88\n",
              "Uighur Separatists                                                 86\n",
              "Corsican National Liberation Front- Historic Channel               84\n",
              "Animal Liberation Front (ALF)                                      84\n",
              "National Socialist Council of Nagaland-Isak-Muivah (NSCN-IM)       81\n",
              "Haqqani Network                                                    79\n",
              "Janatantrik Terai Mukti Morcha- Jwala Singh (JTMM-J)               78\n",
              "Anarchists                                                         77\n",
              "National Liberation Front of Tripura (NLFT)                        77\n",
              "Movement for the Emancipation of the Niger Delta (MEND)            76\n",
              "Militants                                                          75\n",
              "Jemaah Islamiya (JI)                                               75\n",
              "People's Liberation Army (India)                                   75\n",
              "Bangladesh Nationalist Party (BNP)                                 74\n",
              "People's War Group (PWG)                                           73\n",
              "Earth Liberation Front (ELF)                                       72\n",
              "Muslim Militants                                                   72\n",
              "Ansar Bayt al-Maqdis (Ansar Jerusalem)                             71\n",
              "Jihadi-inspired extremists                                         67\n",
              "Irish Republican Army (IRA)                                        67\n",
              "Jamaat-E-Islami (Bangladesh)                                       66\n",
              "Asa'ib Ahl al-Haqq                                                 65\n",
              "Sudan People's Liberation Movement in Opposition (SPLM-IO)         65\n",
              "United Self Defense Units of Colombia (AUC)                        64\n",
              "Ansar al-Sharia (Libya)                                            64\n",
              "Anti-Abortion extremists                                           63\n",
              "Popular Front for the Liberation of Palestine (PFLP)               62\n",
              "Opposition Group                                                   61\n",
              "Paraguayan People's Army (EPP)                                     60\n",
              "Southern Mobility Movement (Yemen)                                 58\n",
              "Sindhu Desh Liberation Army (SDLA)                                 58\n",
              "Thai Islamic Militants                                             58\n",
              "Sudan People's Liberation Movement - North                         58\n",
              "Kosovo Liberation Army (KLA)                                       58\n",
              "Al-Qaida                                                           56\n",
              "People's Liberation Front of India                                 54\n",
              "Anti-Balaka Militia                                                54\n",
              "Conspiracy of Cells of Fire                                        54\n",
              "Left-Wing Guerrillas                                               54\n",
              "Ansar al-Dine (Mali)                                               53\n",
              "Indian Mujahideen                                                  51\n",
              "National Socialist Council of Nagaland-Khaplang (NSCN-K)           50\n",
              "Niger Delta Avengers (NDA)                                         49\n",
              "Movement for Oneness and Jihad in West Africa (MUJAO)              49\n",
              "Resistenza                                                         48\n",
              "Palestinians                                                       45\n",
              "Albanian extremists                                                45\n",
              "Mayi Mayi                                                          45\n",
              "Popular Resistance Committees                                      44\n",
              "Tawhid and Jihad                                                   44\n",
              "Informal Anarchist Federation                                      44\n",
              "Adan-Abyan Province of the Islamic State                           43\n",
              "Revolutionary United Front (RUF)                                   43\n",
              "Caucasus Emirate                                                   42\n",
              "Real Irish Republican Army (RIRA)                                  41\n",
              "Karen National Union                                               41\n",
              "Movement of Democratic Forces of Casamance                         40\n",
              "Patriotic Resistance Front in Ituri (FRPI)                         40\n",
              "Buddhist Monks                                                     40\n",
              "Naxalites                                                          39\n",
              "Oglaigh na hEireann                                                39\n",
              "Party for the Liberation of the Hutu People (PALIPEHUTU)           38\n",
              "Devrimici Halk Kurtulus Cephesi (DHKP/C)                           38\n",
              "Kangleipak Communist Party (KCP)                                   37\n",
              "Tribal Group                                                       37\n",
              "Taliban (Pakistan)                                                 37\n",
              "Hizb-I-Islami                                                      36\n",
              "Muslim Brotherhood                                                 36\n",
              "Neo-Nazi extremists                                                36\n",
              "Israeli extremists                                                 36\n",
              "National Liberation Army (NLA) (Macedonia)                         35\n",
              "Al-Naqshabandiya Army                                              35\n",
              "Free Papua Movement (OPM-Organisasi Papua Merdeka)                 35\n",
              "Anti-Government extremists                                         35\n",
              "Islamic Front (Syria)                                              35\n",
              "Israeli settlers                                                   34\n",
              "Communist Party of Nepal-Maoist (Baidya)                           34\n",
              "Paramilitaries                                                     34\n",
              "Khmer Rouge                                                        33\n",
              "Islamic State in Bangladesh                                        33\n",
              "Jama'atul Mujahideen Bangladesh (JMB)                              32\n",
              "Ajnad Misr                                                         32\n",
              "Janatantrik Terai Mukti Morcha (JTMM)                              32\n",
              "Seleka                                                             32\n",
              "National Liberation Front (FNL) (Burundi)                          32\n",
              "The New Irish Republican Army                                      32\n",
              "Continuity Irish Republican Army (CIRA)                            31\n",
              "Maoist Communist Center (MCC)                                      31\n",
              "Baloch Nationalists                                                31\n",
              "Sanaa Province of the Islamic State                                30\n",
              "Sunni Muslim extremists                                            30\n",
              "Jaish-e-Mohammad (JeM)                                             29\n",
              "Rebels                                                             29\n",
              "Jaysh al-Islam (Syria)                                             29\n",
              "Kurdistan Freedom Hawks (TAK)                                      29\n",
              "Southern Front                                                     28\n",
              "Al-Fatah                                                           28\n",
              "Ansar al-Islam                                                     28\n",
              "Communist Party of Nepal - Maoist (CPN-Maoist-Chand)               28\n",
              "United National Liberation Front (UNLF)                            28\n",
              "Balochistan Liberation United Front (BLUF)                         28\n",
              "Muslim Rebels                                                      28\n",
              "Janatantrik Terai Mukti Morcha- Goit (JTMM-G)                      27\n",
              "People's Revolutionary Party of Kangleipak (PREPAK)                27\n",
              "Loyalists                                                          27\n",
              "Sudan People's Liberation Army (SPLA)                              26\n",
              "Death Squad                                                        26\n",
              "Loyalist Volunteer Forces (LVF)                                    26\n",
              "Kachin Independence Army (KIA)                                     26\n",
              "Moro National Liberation Front (MNLF)                              26\n",
              "Pattani United Liberation Organization (PULO)                      26\n",
              "Anti-Muslim extremists                                             26\n",
              "Popular Resistance Committees (Yemen)                              25\n",
              "Abdullah Azzam Brigades                                            25\n",
              "Haftar Militia                                                     25\n",
              "Awami League                                                       25\n",
              "Peasant Self-Defense Group (ACCU)                                  24\n",
              "Dima Halao Daoga (DHD)                                             24\n",
              "United Front for Democracy Against Dictatorship                    24\n",
              "Jaish-e-Islam                                                      24\n",
              "Ahrar al-Sham                                                      24\n",
              "Revolutionary Struggle                                             24\n",
              "Right-wing extremists                                              24\n",
              "Halqa-e-Mehsud                                                     23\n",
              "Lashkar-e-Balochistan                                              23\n",
              "Protestant extremists                                              23\n",
              "Communist Party of Nepal- Maoist (CPN-M)                           23\n",
              "Red Hand Defenders (RHD)                                           23\n",
              "Azawad National Liberation Movement (MNLA)                         22\n",
              "Mujahedin-e Khalq (MEK)                                            22\n",
              "Mujahideen Youth Movement (MYM)                                    22\n",
              "Barisan Revolusi Nasional (BRN)                                    22\n",
              "People's Committee against Police Atrocities (PCPA)                22\n",
              "Ta'ang National Liberation Army (TNLA)                             22\n",
              "Murle Tribe                                                        21\n",
              "Coordination Committee (CORCOM)                                    21\n",
              "Popular Revolutionary Army (Mexico)                                21\n",
              "White extremists                                                   21\n",
              "Strikers                                                           21\n",
              "Purbo Banglar Communist Party                                      21\n",
              "Jundallah (Pakistan)                                               20\n",
              "Ulster Volunteer Force (UVF)                                       20\n",
              "Democratic Front for the Liberation of Palestine (DFLP)            20\n",
              "Military Council of the Tribal Revolutionaries (MCTR)              20\n",
              "Mujahidin Indonesia Timur (MIT)                                    20\n",
              "Democratic Karen Buddhist Army (DKBA)                              20\n",
              "Anti-Semitic extremists                                            20\n",
              "Name: gname, dtype: int64"
            ]
          },
          "execution_count": 76,
          "metadata": {},
          "output_type": "execute_result"
        }
      ],
      "source": [
        "# Calculate the number of attacks by group\n",
        "groups = gtd_df['gname'].value_counts()\n",
        "\n",
        "# Include groups with at least 20 attacks\n",
        "groups = groups[groups > 19]\n",
        "\n",
        "# Exclude unknown groups\n",
        "#group_list = groups.index[groups.index != 'Unknown']\n",
        "group_list = groups.index\n",
        "\n",
        "# Subset the data to major groups\n",
        "major_groups = gtd_df[gtd_df['gname'].isin(group_list)]\n",
        "\n",
        "# Display the number of attacks by group\n",
        "major_groups['gname'].value_counts()"
      ]
    },
    {
      "cell_type": "markdown",
      "metadata": {
        "id": "oN6XOCDnhZ8L"
      },
      "source": [
        "### Drop Text and Datetime Attributes\n",
        "Remove the text and datetime attributes, which will not be used in the models."
      ]
    },
    {
      "cell_type": "code",
      "execution_count": null,
      "metadata": {
        "id": "ftQ9KjdwhZ8L",
        "outputId": "5ae5c0d5-f4ac-4e57-df34-362707a02964"
      },
      "outputs": [
        {
          "name": "stdout",
          "output_type": "stream",
          "text": [
            "<class 'pandas.core.frame.DataFrame'>\n",
            "Int64Index: 106144 entries, 199501000001 to 201612310044\n",
            "Data columns (total 40 columns):\n",
            "iyear               106144 non-null int64\n",
            "imonth              106144 non-null int64\n",
            "iday                106144 non-null int64\n",
            "country_txt         106144 non-null category\n",
            "region_txt          106144 non-null category\n",
            "latitude            106144 non-null float64\n",
            "longitude           106144 non-null float64\n",
            "specificity         106144 non-null category\n",
            "attacktype1_txt     106144 non-null category\n",
            "targtype1_txt       106144 non-null category\n",
            "targsubtype1_txt    106144 non-null category\n",
            "natlty1_txt         106144 non-null category\n",
            "gname               106144 non-null object\n",
            "nperpcap            106144 non-null float64\n",
            "weaptype1_txt       106144 non-null category\n",
            "weapsubtype1_txt    106144 non-null category\n",
            "nkill               106144 non-null float64\n",
            "nkillus             106144 non-null float64\n",
            "nkillter            106144 non-null float64\n",
            "nwound              106144 non-null float64\n",
            "nwoundus            106144 non-null float64\n",
            "nwoundte            106144 non-null float64\n",
            "extended_txt        106144 non-null category\n",
            "vicinity_txt        106144 non-null category\n",
            "crit1_txt           106144 non-null category\n",
            "crit2_txt           106144 non-null category\n",
            "crit3_txt           106144 non-null category\n",
            "doubtterr_txt       106144 non-null category\n",
            "multiple_txt        106144 non-null category\n",
            "success_txt         106144 non-null category\n",
            "suicide_txt         106144 non-null category\n",
            "guncertain1_txt     106144 non-null category\n",
            "individual_txt      106144 non-null category\n",
            "claimed_txt         106144 non-null category\n",
            "property_txt        106144 non-null category\n",
            "ishostkid_txt       106144 non-null category\n",
            "INT_LOG_txt         106144 non-null category\n",
            "INT_IDEO_txt        106144 non-null category\n",
            "INT_MISC_txt        106144 non-null category\n",
            "INT_ANY_txt         106144 non-null category\n",
            "dtypes: category(27), float64(9), int64(3), object(1)\n",
            "memory usage: 14.3+ MB\n"
          ]
        }
      ],
      "source": [
        "major_groups = major_groups.drop(['provstate', 'city', 'summary', 'corp1', 'target1',\n",
        "                                  'scite1', 'dbsource', 'incident_date'], axis=1)\n",
        "\n",
        "major_groups.info(verbose = True)"
      ]
    },
    {
      "cell_type": "markdown",
      "metadata": {
        "id": "ocY9TVd4hZ8L"
      },
      "source": [
        "### Standardize the Numeric Attributes\n",
        "Adjust for differences in the range of the numeric attributes."
      ]
    },
    {
      "cell_type": "code",
      "execution_count": null,
      "metadata": {
        "id": "QXKMMXcrhZ8L",
        "outputId": "0059d606-4184-49c6-ff97-eaf5c794c543"
      },
      "outputs": [
        {
          "data": {
            "text/html": [
              "<div>\n",
              "<style>\n",
              "    .dataframe thead tr:only-child th {\n",
              "        text-align: right;\n",
              "    }\n",
              "\n",
              "    .dataframe thead th {\n",
              "        text-align: left;\n",
              "    }\n",
              "\n",
              "    .dataframe tbody tr th {\n",
              "        vertical-align: top;\n",
              "    }\n",
              "</style>\n",
              "<table border=\"1\" class=\"dataframe\">\n",
              "  <thead>\n",
              "    <tr style=\"text-align: right;\">\n",
              "      <th></th>\n",
              "      <th>count</th>\n",
              "      <th>mean</th>\n",
              "      <th>std</th>\n",
              "      <th>min</th>\n",
              "      <th>25%</th>\n",
              "      <th>50%</th>\n",
              "      <th>75%</th>\n",
              "      <th>max</th>\n",
              "    </tr>\n",
              "  </thead>\n",
              "  <tbody>\n",
              "    <tr>\n",
              "      <th>nperpcap</th>\n",
              "      <td>106144.0</td>\n",
              "      <td>0.093185</td>\n",
              "      <td>1.766333</td>\n",
              "      <td>0.0</td>\n",
              "      <td>0.0</td>\n",
              "      <td>0.0</td>\n",
              "      <td>0.0</td>\n",
              "      <td>406.000000</td>\n",
              "    </tr>\n",
              "    <tr>\n",
              "      <th>nkill</th>\n",
              "      <td>106144.0</td>\n",
              "      <td>0.726518</td>\n",
              "      <td>5.881224</td>\n",
              "      <td>-0.5</td>\n",
              "      <td>-0.5</td>\n",
              "      <td>0.0</td>\n",
              "      <td>0.5</td>\n",
              "      <td>749.500000</td>\n",
              "    </tr>\n",
              "    <tr>\n",
              "      <th>nkillus</th>\n",
              "      <td>106144.0</td>\n",
              "      <td>0.039559</td>\n",
              "      <td>5.881791</td>\n",
              "      <td>0.0</td>\n",
              "      <td>0.0</td>\n",
              "      <td>0.0</td>\n",
              "      <td>0.0</td>\n",
              "      <td>1358.000000</td>\n",
              "    </tr>\n",
              "    <tr>\n",
              "      <th>nkillter</th>\n",
              "      <td>106144.0</td>\n",
              "      <td>0.438310</td>\n",
              "      <td>4.068101</td>\n",
              "      <td>0.0</td>\n",
              "      <td>0.0</td>\n",
              "      <td>0.0</td>\n",
              "      <td>0.0</td>\n",
              "      <td>500.000000</td>\n",
              "    </tr>\n",
              "    <tr>\n",
              "      <th>nwound</th>\n",
              "      <td>106144.0</td>\n",
              "      <td>1.181134</td>\n",
              "      <td>12.390895</td>\n",
              "      <td>0.0</td>\n",
              "      <td>0.0</td>\n",
              "      <td>0.0</td>\n",
              "      <td>1.0</td>\n",
              "      <td>2455.333333</td>\n",
              "    </tr>\n",
              "    <tr>\n",
              "      <th>nwoundus</th>\n",
              "      <td>106144.0</td>\n",
              "      <td>0.020416</td>\n",
              "      <td>2.125241</td>\n",
              "      <td>0.0</td>\n",
              "      <td>0.0</td>\n",
              "      <td>0.0</td>\n",
              "      <td>0.0</td>\n",
              "      <td>650.000000</td>\n",
              "    </tr>\n",
              "    <tr>\n",
              "      <th>nwoundte</th>\n",
              "      <td>106144.0</td>\n",
              "      <td>0.089256</td>\n",
              "      <td>1.410185</td>\n",
              "      <td>0.0</td>\n",
              "      <td>0.0</td>\n",
              "      <td>0.0</td>\n",
              "      <td>0.0</td>\n",
              "      <td>200.000000</td>\n",
              "    </tr>\n",
              "  </tbody>\n",
              "</table>\n",
              "</div>"
            ],
            "text/plain": [
              "             count      mean        std  min  25%  50%  75%          max\n",
              "nperpcap  106144.0  0.093185   1.766333  0.0  0.0  0.0  0.0   406.000000\n",
              "nkill     106144.0  0.726518   5.881224 -0.5 -0.5  0.0  0.5   749.500000\n",
              "nkillus   106144.0  0.039559   5.881791  0.0  0.0  0.0  0.0  1358.000000\n",
              "nkillter  106144.0  0.438310   4.068101  0.0  0.0  0.0  0.0   500.000000\n",
              "nwound    106144.0  1.181134  12.390895  0.0  0.0  0.0  1.0  2455.333333\n",
              "nwoundus  106144.0  0.020416   2.125241  0.0  0.0  0.0  0.0   650.000000\n",
              "nwoundte  106144.0  0.089256   1.410185  0.0  0.0  0.0  0.0   200.000000"
            ]
          },
          "execution_count": 78,
          "metadata": {},
          "output_type": "execute_result"
        }
      ],
      "source": [
        "scaler = preprocessing.RobustScaler()\n",
        "\n",
        "# List of numeric attributes\n",
        "scale_attrs = ['nperpcap', 'nkill', 'nkillus', 'nkillter', 'nwound', 'nwoundus', 'nwoundte']\n",
        "\n",
        "# Standardize the attributes in place\n",
        "major_groups[scale_attrs] = scaler.fit_transform(major_groups[scale_attrs])\n",
        "\n",
        "# View the transformation\n",
        "major_groups[scale_attrs].describe().transpose()"
      ]
    },
    {
      "cell_type": "markdown",
      "metadata": {
        "id": "a4PWVUXehZ8L"
      },
      "source": [
        "### Separate Known and Unknown\n",
        "Split the major groups into known and unknown."
      ]
    },
    {
      "cell_type": "code",
      "execution_count": null,
      "metadata": {
        "id": "frVt0S21hZ8L",
        "outputId": "6edcedb1-73ff-4229-d3db-14e6893cd159"
      },
      "outputs": [
        {
          "name": "stdout",
          "output_type": "stream",
          "text": [
            "Known Major Groups: (46613, 40)\n",
            "Unknown Major Groups: (59531, 40)\n"
          ]
        }
      ],
      "source": [
        "# Excluded Unknown groups\n",
        "known_maj_groups = major_groups[gtd_df['gname'] != \"Unknown\"]\n",
        "print(\"Known Major Groups: {}\".format(known_maj_groups.shape))\n",
        "\n",
        "# Only include Unknown groups\n",
        "unknown_maj_groups = major_groups[gtd_df['gname'] == \"Unknown\"]\n",
        "print(\"Unknown Major Groups: {}\".format(unknown_maj_groups.shape))"
      ]
    },
    {
      "cell_type": "markdown",
      "metadata": {
        "id": "aYpmOD6WhZ8M"
      },
      "source": [
        "### Encode the Target Attribute\n",
        "Convert the text values of the terrorist groups to an encoded numeric value for the random forest models."
      ]
    },
    {
      "cell_type": "code",
      "execution_count": null,
      "metadata": {
        "id": "libBbfEShZ8M",
        "outputId": "2bb41b64-b8d9-4f6d-fbb4-5da7769d2798"
      },
      "outputs": [
        {
          "data": {
            "text/plain": [
              "LabelEncoder()"
            ]
          },
          "execution_count": 80,
          "metadata": {},
          "output_type": "execute_result"
        }
      ],
      "source": [
        "# Create the encoder\n",
        "le = preprocessing.LabelEncoder()\n",
        "\n",
        "# Fit the encoder to the target\n",
        "le.fit(known_maj_groups['gname'])"
      ]
    },
    {
      "cell_type": "code",
      "execution_count": null,
      "metadata": {
        "scrolled": false,
        "id": "01EGLrcjhZ8M",
        "outputId": "84e988d7-3782-4416-ecba-21fbba14fbdb"
      },
      "outputs": [
        {
          "data": {
            "text/plain": [
              "['Abdullah Azzam Brigades',\n",
              " 'Abu Sayyaf Group (ASG)',\n",
              " 'Adan-Abyan Province of the Islamic State',\n",
              " 'Ahrar al-Sham',\n",
              " 'Ajnad Misr',\n",
              " 'Al-Aqsa Martyrs Brigade',\n",
              " 'Al-Fatah',\n",
              " \"Al-Gama'at al-Islamiyya (IG)\",\n",
              " 'Al-Naqshabandiya Army',\n",
              " 'Al-Nusrah Front',\n",
              " 'Al-Qaida',\n",
              " 'Al-Qaida in Iraq',\n",
              " 'Al-Qaida in the Arabian Peninsula (AQAP)',\n",
              " 'Al-Qaida in the Islamic Maghreb (AQIM)',\n",
              " 'Al-Shabaab',\n",
              " 'Albanian extremists',\n",
              " 'Algerian Islamic Extremists',\n",
              " 'Allied Democratic Forces (ADF)',\n",
              " 'Anarchists',\n",
              " 'Animal Liberation Front (ALF)',\n",
              " 'Ansar Bayt al-Maqdis (Ansar Jerusalem)',\n",
              " 'Ansar al-Dine (Mali)',\n",
              " 'Ansar al-Islam',\n",
              " 'Ansar al-Sharia (Libya)',\n",
              " 'Anti-Abortion extremists',\n",
              " 'Anti-Balaka Militia',\n",
              " 'Anti-Government extremists',\n",
              " 'Anti-Muslim extremists',\n",
              " 'Anti-Semitic extremists',\n",
              " 'Armed Islamic Group (GIA)',\n",
              " \"Asa'ib Ahl al-Haqq\",\n",
              " 'Awami League',\n",
              " 'Azawad National Liberation Movement (MNLA)',\n",
              " 'Baloch Liberation Army (BLA)',\n",
              " 'Baloch Liberation Front (BLF)',\n",
              " 'Baloch Nationalists',\n",
              " 'Baloch Republican Army (BRA)',\n",
              " 'Balochistan Liberation United Front (BLUF)',\n",
              " 'Bangladesh Nationalist Party (BNP)',\n",
              " 'Bangsamoro Islamic Freedom Movement (BIFM)',\n",
              " 'Barisan Revolusi Nasional (BRN)',\n",
              " 'Barqa Province of the Islamic State',\n",
              " 'Basque Fatherland and Freedom (ETA)',\n",
              " 'Boko Haram',\n",
              " 'Buddhist Monks',\n",
              " 'Caucasus Emirate',\n",
              " 'Chechen Rebels',\n",
              " 'Communist Party of India - Maoist (CPI-Maoist)',\n",
              " 'Communist Party of Nepal - Maoist (CPN-Maoist-Chand)',\n",
              " 'Communist Party of Nepal- Maoist (CPN-M)',\n",
              " 'Communist Party of Nepal-Maoist (Baidya)',\n",
              " 'Conspiracy of Cells of Fire',\n",
              " 'Continuity Irish Republican Army (CIRA)',\n",
              " 'Coordination Committee (CORCOM)',\n",
              " 'Corsican National Liberation Front (FLNC)',\n",
              " 'Corsican National Liberation Front- Historic Channel',\n",
              " 'Death Squad',\n",
              " 'Democratic Front for the Liberation of Palestine (DFLP)',\n",
              " 'Democratic Front for the Liberation of Rwanda (FDLR)',\n",
              " 'Democratic Karen Buddhist Army (DKBA)',\n",
              " 'Devrimici Halk Kurtulus Cephesi (DHKP/C)',\n",
              " 'Dima Halao Daoga (DHD)',\n",
              " 'Dissident Republicans',\n",
              " \"Donetsk People's Republic\",\n",
              " 'Earth Liberation Front (ELF)',\n",
              " 'Free Aceh Movement (GAM)',\n",
              " 'Free Papua Movement (OPM-Organisasi Papua Merdeka)',\n",
              " 'Free Syrian Army',\n",
              " 'Fulani extremists',\n",
              " 'Garo National Liberation Army',\n",
              " 'Gunmen',\n",
              " 'Haftar Militia',\n",
              " 'Halqa-e-Mehsud',\n",
              " 'Hamas (Islamic Resistance Movement)',\n",
              " 'Haqqani Network',\n",
              " 'Hezbollah',\n",
              " 'Hizb-I-Islami',\n",
              " 'Hizbul Mujahideen (HM)',\n",
              " 'Houthi extremists (Ansar Allah)',\n",
              " 'Hutu extremists',\n",
              " 'Indian Mujahideen',\n",
              " 'Informal Anarchist Federation',\n",
              " 'Irish Republican Army (IRA)',\n",
              " 'Islamic Front (Syria)',\n",
              " 'Islamic State in Bangladesh',\n",
              " 'Islamic State of Iraq (ISI)',\n",
              " 'Islamic State of Iraq and the Levant (ISIL)',\n",
              " 'Islamist extremists',\n",
              " 'Israeli extremists',\n",
              " 'Israeli settlers',\n",
              " 'Jaish-e-Islam',\n",
              " 'Jaish-e-Mohammad (JeM)',\n",
              " \"Jama'atul Mujahideen Bangladesh (JMB)\",\n",
              " 'Jamaat-E-Islami (Bangladesh)',\n",
              " 'Janatantrik Terai Mukti Morcha (JTMM)',\n",
              " 'Janatantrik Terai Mukti Morcha- Goit (JTMM-G)',\n",
              " 'Janatantrik Terai Mukti Morcha- Jwala Singh (JTMM-J)',\n",
              " 'Janjaweed',\n",
              " 'Jaysh al-Islam (Syria)',\n",
              " 'Jemaah Islamiya (JI)',\n",
              " 'Jihadi-inspired extremists',\n",
              " 'Jundallah (Pakistan)',\n",
              " 'Kachin Independence Army (KIA)',\n",
              " 'Kangleipak Communist Party (KCP)',\n",
              " 'Karen National Union',\n",
              " 'Khmer Rouge',\n",
              " 'Khorasan Chapter of the Islamic State',\n",
              " 'Kosovo Liberation Army (KLA)',\n",
              " 'Kurdistan Freedom Hawks (TAK)',\n",
              " \"Kurdistan Workers' Party (PKK)\",\n",
              " 'Lashkar-e-Balochistan',\n",
              " 'Lashkar-e-Islam (Pakistan)',\n",
              " 'Lashkar-e-Jhangvi',\n",
              " 'Lashkar-e-Taiba (LeT)',\n",
              " 'Left-Wing Guerrillas',\n",
              " 'Liberation Tigers of Tamil Eelam (LTTE)',\n",
              " \"Lord's Resistance Army (LRA)\",\n",
              " 'Loyalist Volunteer Forces (LVF)',\n",
              " 'Loyalists',\n",
              " \"Luhansk People's Republic\",\n",
              " 'Maoist Communist Center (MCC)',\n",
              " 'Maoists',\n",
              " 'Mayi Mayi',\n",
              " 'Militants',\n",
              " 'Military Council of the Tribal Revolutionaries (MCTR)',\n",
              " 'Moro Islamic Liberation Front (MILF)',\n",
              " 'Moro National Liberation Front (MNLF)',\n",
              " 'Movement for Oneness and Jihad in West Africa (MUJAO)',\n",
              " 'Movement for the Emancipation of the Niger Delta (MEND)',\n",
              " 'Movement of Democratic Forces of Casamance',\n",
              " 'Mozambique National Resistance Movement (MNR)',\n",
              " 'Mujahedin-e Khalq (MEK)',\n",
              " 'Mujahideen Youth Movement (MYM)',\n",
              " 'Mujahidin Indonesia Timur (MIT)',\n",
              " 'Murle Tribe',\n",
              " 'Muslim Brotherhood',\n",
              " 'Muslim Militants',\n",
              " 'Muslim Rebels',\n",
              " 'Muslim Separatists',\n",
              " 'Muslim extremists',\n",
              " 'Muttahida Qami Movement (MQM)',\n",
              " 'National Democratic Front of Bodoland (NDFB)',\n",
              " 'National Liberation Army (NLA) (Macedonia)',\n",
              " 'National Liberation Army of Colombia (ELN)',\n",
              " 'National Liberation Front (FNL) (Burundi)',\n",
              " 'National Liberation Front of Tripura (NLFT)',\n",
              " 'National Socialist Council of Nagaland-Isak-Muivah (NSCN-IM)',\n",
              " 'National Socialist Council of Nagaland-Khaplang (NSCN-K)',\n",
              " 'National Union for the Total Independence of Angola (UNITA)',\n",
              " 'Naxalites',\n",
              " 'Neo-Nazi extremists',\n",
              " \"New People's Army (NPA)\",\n",
              " 'Niger Delta Avengers (NDA)',\n",
              " 'Oglaigh na hEireann',\n",
              " 'Opposition Group',\n",
              " 'Palestinian Extremists',\n",
              " 'Palestinian Islamic Jihad (PIJ)',\n",
              " 'Palestinians',\n",
              " \"Paraguayan People's Army (EPP)\",\n",
              " 'Paramilitaries',\n",
              " 'Party for the Liberation of the Hutu People (PALIPEHUTU)',\n",
              " 'Patriotic Resistance Front in Ituri (FRPI)',\n",
              " 'Pattani United Liberation Organization (PULO)',\n",
              " 'Peasant Self-Defense Group (ACCU)',\n",
              " \"People's Committee against Police Atrocities (PCPA)\",\n",
              " \"People's Liberation Army (India)\",\n",
              " \"People's Liberation Front of India\",\n",
              " \"People's Revolutionary Party of Kangleipak (PREPAK)\",\n",
              " \"People's War Group (PWG)\",\n",
              " 'Popular Front for the Liberation of Palestine (PFLP)',\n",
              " 'Popular Resistance Committees',\n",
              " 'Popular Resistance Committees (Yemen)',\n",
              " 'Popular Revolutionary Army (Mexico)',\n",
              " 'Pro Hartal Activists',\n",
              " 'Protestant extremists',\n",
              " 'Purbo Banglar Communist Party',\n",
              " 'Real Irish Republican Army (RIRA)',\n",
              " 'Rebels',\n",
              " 'Red Hand Defenders (RHD)',\n",
              " 'Resistenza',\n",
              " 'Revolutionary Armed Forces of Colombia (FARC)',\n",
              " 'Revolutionary Struggle',\n",
              " 'Revolutionary United Front (RUF)',\n",
              " 'Right-wing extremists',\n",
              " 'Runda Kumpulan Kecil (RKK)',\n",
              " 'Salafist Group for Preaching and Fighting (GSPC)',\n",
              " 'Sanaa Province of the Islamic State',\n",
              " 'Seleka',\n",
              " 'Separatists',\n",
              " 'Shining Path (SL)',\n",
              " 'Sinai Province of the Islamic State',\n",
              " 'Sindhu Desh Liberation Army (SDLA)',\n",
              " 'Southern Front',\n",
              " 'Southern Mobility Movement (Yemen)',\n",
              " 'Strikers',\n",
              " \"Sudan People's Liberation Army (SPLA)\",\n",
              " \"Sudan People's Liberation Movement - North\",\n",
              " \"Sudan People's Liberation Movement in Opposition (SPLM-IO)\",\n",
              " 'Sunni Muslim extremists',\n",
              " \"Ta'ang National Liberation Army (TNLA)\",\n",
              " 'Taliban',\n",
              " 'Taliban (Pakistan)',\n",
              " 'Tawhid and Jihad',\n",
              " 'Tehrik-i-Taliban Pakistan (TTP)',\n",
              " 'Thai Islamic Militants',\n",
              " 'The New Irish Republican Army',\n",
              " 'Tribal Group',\n",
              " 'Tribesmen',\n",
              " 'Tripoli Province of the Islamic State',\n",
              " 'Uighur Separatists',\n",
              " 'Ulster Volunteer Force (UVF)',\n",
              " 'United Baloch Army (UBA)',\n",
              " 'United Front for Democracy Against Dictatorship',\n",
              " 'United Liberation Front of Assam (ULFA)',\n",
              " 'United National Liberation Front (UNLF)',\n",
              " 'United Self Defense Units of Colombia (AUC)',\n",
              " 'White extremists']"
            ]
          },
          "execution_count": 81,
          "metadata": {},
          "output_type": "execute_result"
        }
      ],
      "source": [
        "# View the labels\n",
        "list(le.classes_)"
      ]
    },
    {
      "cell_type": "code",
      "execution_count": null,
      "metadata": {
        "id": "7mijA9cAhZ8M",
        "outputId": "d294f75a-553c-4cc2-ae64-feb9de5c6cca"
      },
      "outputs": [
        {
          "data": {
            "text/plain": [
              "array([ 24,  24,  24, ..., 200,  43, 116])"
            ]
          },
          "execution_count": 82,
          "metadata": {},
          "output_type": "execute_result"
        }
      ],
      "source": [
        "# View the encoded values for th terrorist group names\n",
        "label_codes = le.transform(known_maj_groups['gname'])\n",
        "label_codes"
      ]
    },
    {
      "cell_type": "code",
      "execution_count": null,
      "metadata": {
        "id": "mJB82uZmhZ8M",
        "outputId": "538828e3-7276-42b5-fe3b-1ae0cdd05d69"
      },
      "outputs": [
        {
          "data": {
            "text/plain": [
              "['Abdullah Azzam Brigades',\n",
              " 'Abu Sayyaf Group (ASG)',\n",
              " 'Adan-Abyan Province of the Islamic State',\n",
              " 'Anti-Muslim extremists']"
            ]
          },
          "execution_count": 83,
          "metadata": {},
          "output_type": "execute_result"
        }
      ],
      "source": [
        "# Convert some integers into their category names\n",
        "list(le.inverse_transform([0, 1, 2, 27]))"
      ]
    },
    {
      "cell_type": "markdown",
      "metadata": {
        "id": "pGuo56sXhZ8N"
      },
      "source": [
        "### Create Training and Testing Datasets\n",
        "The original dataset is split into 80% training and 20% testing."
      ]
    },
    {
      "cell_type": "code",
      "execution_count": null,
      "metadata": {
        "collapsed": true,
        "id": "WoX9QINghZ8N"
      },
      "outputs": [],
      "source": [
        "# Seed for reproducible results\n",
        "seed = 1009\n",
        "\n",
        "# Predictor variables\n",
        "X = pd.get_dummies(known_maj_groups.drop(['gname'], axis=1), drop_first=True)\n",
        "\n",
        "# Labels\n",
        "y = label_codes\n",
        "\n",
        "# Create an 80/20 split for training and testing data\n",
        "X_train, X_test, y_train, y_test = train_test_split(X, y, test_size = 0.2, random_state = seed, stratify = y)"
      ]
    },
    {
      "cell_type": "markdown",
      "metadata": {
        "id": "PvR2ViIlhZ8N"
      },
      "source": [
        "### Random Forest Model\n",
        "Create the model using 1000 estimators."
      ]
    },
    {
      "cell_type": "code",
      "execution_count": null,
      "metadata": {
        "id": "y4z_1nTkhZ8N",
        "outputId": "eb3b3f98-8e53-4a30-8b93-cae3b9a7bb78"
      },
      "outputs": [
        {
          "name": "stdout",
          "output_type": "stream",
          "text": [
            "Execution Seconds: 163.3958101272583\n",
            "\n",
            "\n",
            "RandomForestClassifier(bootstrap=True, class_weight=None, criterion='gini',\n",
            "            max_depth=None, max_features='auto', max_leaf_nodes=None,\n",
            "            min_impurity_decrease=0.0, min_impurity_split=None,\n",
            "            min_samples_leaf=1, min_samples_split=2,\n",
            "            min_weight_fraction_leaf=0.0, n_estimators=1000, n_jobs=-1,\n",
            "            oob_score=True, random_state=1009, verbose=0, warm_start=False)\n"
          ]
        }
      ],
      "source": [
        "start = time.time()\n",
        "\n",
        "# Create the model\n",
        "rf1 = RandomForestClassifier(n_estimators = 1000, oob_score = True, n_jobs = -1, random_state = seed)\n",
        "\n",
        "# Fit it to the training data\n",
        "rf1.fit(X_train, y_train)\n",
        "\n",
        "end = time.time()\n",
        "print(\"Execution Seconds: {}\".format((end - start)))\n",
        "print(\"\\n\")\n",
        "print(rf1)"
      ]
    },
    {
      "cell_type": "markdown",
      "metadata": {
        "id": "XFdoSTNnhZ8N"
      },
      "source": [
        "### Feature Importance\n",
        "Display the top 50 features by importance in descending order."
      ]
    },
    {
      "cell_type": "code",
      "execution_count": null,
      "metadata": {
        "id": "usAI0OqHhZ8N",
        "outputId": "7dad788c-d8e2-4f38-d018-1c4986115801"
      },
      "outputs": [
        {
          "name": "stdout",
          "output_type": "stream",
          "text": [
            "\n",
            "Features Ranking - Top 50:\n",
            "\n",
            "(0.090610911185397228, 'longitude')\n",
            "(0.083954438743832377, 'latitude')\n",
            "(0.043483756997256352, 'iyear')\n",
            "(0.027691347890146083, 'region_txt_South Asia')\n",
            "(0.020542442864198204, 'INT_ANY_txt_YES')\n",
            "(0.020472018264479187, 'INT_IDEO_txt_YES')\n",
            "(0.019689082832654241, 'country_txt_Iraq')\n",
            "(0.019204650188159301, 'iday')\n",
            "(0.0186233206889303, 'region_txt_Middle East & North Africa')\n",
            "(0.018312949801860115, 'imonth')\n",
            "(0.01796840599946959, 'country_txt_Somalia')\n",
            "(0.017826924906577581, 'natlty1_txt_Iraq')\n",
            "(0.014905832405740093, 'region_txt_Sub-Saharan Africa')\n",
            "(0.014600956795743695, 'INT_IDEO_txt_UKNOWN')\n",
            "(0.01449914516069721, 'INT_LOG_txt_UKNOWN')\n",
            "(0.014341933733816589, 'nkill')\n",
            "(0.014124991750796529, 'INT_ANY_txt_UKNOWN')\n",
            "(0.01278521064019564, 'country_txt_Pakistan')\n",
            "(0.012443160980158798, 'country_txt_India')\n",
            "(0.012165962613075542, 'natlty1_txt_Pakistan')\n",
            "(0.011929074011110962, 'natlty1_txt_India')\n",
            "(0.011803792421003724, 'nwound')\n",
            "(0.011771647569482803, 'country_txt_Nigeria')\n",
            "(0.011095482250811181, 'natlty1_txt_Nigeria')\n",
            "(0.010532593783208985, 'natlty1_txt_Somalia')\n",
            "(0.0090285682766629519, 'natlty1_txt_Turkey')\n",
            "(0.0086527513535869429, 'claimed_txt_YES')\n",
            "(0.0084765999032618226, 'country_txt_Turkey')\n",
            "(0.0081390168062485165, 'natlty1_txt_Yemen')\n",
            "(0.0080006155322214171, 'country_txt_Colombia')\n",
            "(0.0079576496577239975, 'natlty1_txt_Colombia')\n",
            "(0.0079119259330834111, 'country_txt_Yemen')\n",
            "(0.0076781797056645834, 'country_txt_Sri Lanka')\n",
            "(0.0074380696434846781, 'guncertain1_txt_YES')\n",
            "(0.0072787195213728012, 'natlty1_txt_Sri Lanka')\n",
            "(0.0072456789135080697, 'natlty1_txt_Philippines')\n",
            "(0.0071578482749237553, 'country_txt_Philippines')\n",
            "(0.0067259998763715429, 'region_txt_South America')\n",
            "(0.0066159098349960928, 'region_txt_Southeast Asia')\n",
            "(0.006523393611892781, 'INT_LOG_txt_YES')\n",
            "(0.006424854765613529, 'multiple_txt_YES')\n",
            "(0.0060672329301916048, 'property_txt_YES')\n",
            "(0.005921317661060391, 'claimed_txt_UKNOWN')\n",
            "(0.0051886229869100515, 'targtype1_txt_Private Citizens & Property')\n",
            "(0.0049426862005971465, 'nkillter')\n",
            "(0.0049251958228551298, 'specificity_3.0')\n",
            "(0.0048504003709983444, 'attacktype1_txt_Bombing/Explosion')\n",
            "(0.0046924634848562932, 'weaptype1_txt_Explosives/Bombs/Dynamite')\n",
            "(0.0045568666805495314, 'INT_MISC_txt_YES')\n",
            "(0.0042475812589193055, 'region_txt_Eastern Europe')\n"
          ]
        }
      ],
      "source": [
        "# Get the modified column names with one hot encoding\n",
        "column_names = list(X_train.columns.values)\n",
        "\n",
        "# Create a descending sorted list of variables by featur importance\n",
        "var_imp = sorted(zip(map(lambda x: x, rf1.feature_importances_), column_names),\n",
        "             reverse = True)\n",
        "\n",
        "print(\"\\nFeatures Ranking - Top 50:\\n\")\n",
        "for f in var_imp[0:50]:\n",
        "    print(f)"
      ]
    },
    {
      "cell_type": "code",
      "execution_count": null,
      "metadata": {
        "id": "6-AFPZCZhZ8O",
        "outputId": "e1825b55-5ed5-4151-fc8d-5dfa86cd7c40"
      },
      "outputs": [
        {
          "data": {
            "image/png": "[encoded data removed]",
            "text/plain": [
              "<matplotlib.figure.Figure at 0x1a419251d0>"
            ]
          },
          "metadata": {},
          "output_type": "display_data"
        }
      ],
      "source": [
        "# Get the features, standard deviation and indices\n",
        "importances = rf1.feature_importances_\n",
        "std = np.std([tree.feature_importances_ for tree in rf1.estimators_], axis=0)\n",
        "indices = np.argsort(importances)[::-1]\n",
        "\n",
        "# Filter to the top 50\n",
        "top_n = 50\n",
        "top_n_importances = importances[indices][0:top_n]\n",
        "top_n_std = std[0:top_n]\n",
        "top_n_indices = indices[0:top_n]\n",
        "\n",
        "# Create a list of x labels\n",
        "x_labels = [column_names[t] for t in top_n_indices]\n",
        "\n",
        "# Plot the results\n",
        "plt.figure()\n",
        "plt.title(\"Feature Importance - Top 50\",  fontsize=20)\n",
        "plt.bar(range(top_n), top_n_importances, color=\"firebrick\", yerr = top_n_std, align=\"center\")\n",
        "plt.xticks(rotation=90)\n",
        "plt.xticks(range(top_n), x_labels)\n",
        "plt.xlim([-1, top_n])\n",
        "plt.show()"
      ]
    },
    {
      "cell_type": "code",
      "execution_count": null,
      "metadata": {
        "id": "MLmCVQVUhZ8O",
        "outputId": "66f3ff5b-6089-4288-ed52-5cab3dde216b"
      },
      "outputs": [
        {
          "name": "stdout",
          "output_type": "stream",
          "text": [
            "\n",
            "Accuracy: 0.9045371661482355\n",
            "\n",
            "Precision: 0.902580366378236\n",
            "\n",
            "Recall: 0.9045371661482355\n",
            "\n",
            "F1: 0.895149376819738\n"
          ]
        }
      ],
      "source": [
        "# Predict labels on the test dataset\n",
        "pred_labels1 = rf1.predict(X_test)\n",
        "\n",
        "# Calculate the accuracy of the model\n",
        "acc_score1 = accuracy_score(y_test, pred_labels1)\n",
        "print(\"\\nAccuracy: {}\".format(acc_score1))\n",
        "\n",
        "# Calculate the precision of the model\n",
        "prec_score1 = precision_score(y_test, pred_labels1, average='weighted')\n",
        "print(\"\\nPrecision: {}\".format(prec_score1))\n",
        "\n",
        "# Calculate the recall of the model\n",
        "rcll_score1 = recall_score(y_test, pred_labels1, average='weighted')\n",
        "print(\"\\nRecall: {}\".format(rcll_score1))\n",
        "\n",
        "# Calculate the F1 of the model\n",
        "f1_score1 = f1_score(y_test, pred_labels1, average='weighted')\n",
        "print(\"\\nF1: {}\".format(f1_score1))"
      ]
    },
    {
      "cell_type": "markdown",
      "metadata": {
        "id": "pMT45bdlhZ8O"
      },
      "source": [
        "### Apply Model to Uknown Groups\n",
        "Of the 106,544 observations, 56.25% have a group classification of Unknown."
      ]
    },
    {
      "cell_type": "code",
      "execution_count": null,
      "metadata": {
        "collapsed": true,
        "id": "XZsWLr8jhZ8O"
      },
      "outputs": [],
      "source": [
        "# Predictor variables\n",
        "X_unknown = pd.get_dummies(unknown_maj_groups.drop(['gname'], axis=1), drop_first=True)\n",
        "\n",
        "\n",
        "# Predict labels on the unknown dataset\n",
        "pred_labels2 = rf1.predict(X_unknown)\n",
        "\n",
        "# Get the list of predicted labels for unknown observations\n",
        "unknown_preds = list(le.inverse_transform(pred_labels2))\n",
        "\n",
        "# Calculate the counts for each group\n",
        "unknown_counts = collections.Counter(unknown_preds)"
      ]
    },
    {
      "cell_type": "markdown",
      "metadata": {
        "id": "pXov0TGQhZ8O"
      },
      "source": [
        "### Top 25 Predicted Unknown Groups\n",
        "The top 25 predicted groups account for 97.59% of the unknown observations."
      ]
    },
    {
      "cell_type": "code",
      "execution_count": null,
      "metadata": {
        "scrolled": false,
        "id": "eTn16QrIhZ8O",
        "outputId": "746cd873-2ed8-4aea-d6b2-06e1f9b906f1"
      },
      "outputs": [
        {
          "name": "stdout",
          "output_type": "stream",
          "text": [
            "Muslim extremists : 24564\n",
            "Gunmen : 8568\n",
            "Separatists : 3677\n",
            "Tribesmen : 3490\n",
            "Militants : 3430\n",
            "Maoists : 2303\n",
            "Taliban : 1868\n",
            "Sunni Muslim extremists : 1461\n",
            "Taliban (Pakistan) : 1226\n",
            "Fulani extremists : 908\n",
            "Islamist extremists : 883\n",
            "New People's Army (NPA) : 871\n",
            "Anarchists : 826\n",
            "Opposition Group : 705\n",
            "Neo-Nazi extremists : 551\n",
            "Protestant extremists : 534\n",
            "Left-Wing Guerrillas : 392\n",
            "Muslim Separatists : 380\n",
            "Kurdistan Workers' Party (PKK) : 320\n",
            "Al-Shabaab : 214\n",
            "Liberation Tigers of Tamil Eelam (LTTE) : 208\n",
            "Chechen Rebels : 207\n",
            "Rebels : 185\n",
            "Paramilitaries : 174\n",
            "Anti-Abortion extremists : 156\n",
            "\n",
            "Top 25 Account For: 97.59789017486688%\n"
          ]
        }
      ],
      "source": [
        "# Top 25 unknown\n",
        "unknown_top25 = pd.DataFrame(unknown_counts.most_common()[0:25], columns=['Group', 'Attacks'])\n",
        "\n",
        "cumsum = 0\n",
        "\n",
        "# Display the top 25 groups with counts\n",
        "for index, row in unknown_top25.iterrows():\n",
        "    print(\"{} : {}\".format(row['Group'], row['Attacks']))\n",
        "    cumsum += row['Attacks']\n",
        "\n",
        "\n",
        "print(\"\\nTop 25 Account For: {}%\".format((cumsum / X_unknown.shape[0])*100))"
      ]
    },
    {
      "cell_type": "markdown",
      "metadata": {
        "id": "pu8sleZ8hZ8P"
      },
      "source": [
        "### Muslim Extremists\n",
        "Almost half of the predicted unknown group observations are Muslim extremists."
      ]
    },
    {
      "cell_type": "code",
      "execution_count": null,
      "metadata": {
        "id": "d_i-BNdphZ8P",
        "outputId": "b2f1f191-c127-4910-8c01-aee19473a43c"
      },
      "outputs": [
        {
          "data": {
            "image/png": "[encoded data removed]",
            "text/plain": [
              "<matplotlib.figure.Figure at 0x1ad1db3208>"
            ]
          },
          "metadata": {},
          "output_type": "display_data"
        }
      ],
      "source": [
        "# Set the color palette in reverse\n",
        "colors = sns.color_palette('Reds', len(unknown_top25))\n",
        "colors.reverse()\n",
        "plt.figure(figsize=(14.6, 9.0))\n",
        "\n",
        "# Plot bar chart with index as y values\n",
        "ax = sns.barplot(unknown_top25.Attacks, unknown_top25.index, orient='h', palette=colors)\n",
        "ax.get_xaxis().set_major_formatter(plt.FuncFormatter(lambda x, loc: \"{:,}\".format(int(x))))\n",
        "\n",
        "# Reset the y labels\n",
        "ax.set_yticklabels(unknown_top25.Group)\n",
        "ax.set_xlabel(xlabel='Number of Attacks', fontsize=16)\n",
        "ax.set_title(label='Top 25 Predicted Groups', fontsize=20)\n",
        "plt.show();"
      ]
    },
    {
      "cell_type": "markdown",
      "metadata": {
        "id": "2BoYz73xhZ8P"
      },
      "source": [
        "### References\n",
        "\n",
        "Albon, C. (2017). Convert Pandas categorical data for scikit-learn Retrieved from https://chrisalbon.com/machine_learning/preprocessing_structured_data/convert_pandas_categorical_column_into_integers_for_scikit-learn/\n",
        "\n",
        "Keen, B. (2017). Feature scaling with scikit-learn Retrieved from http://benalexkeen.com/feature-scaling-with-scikit-learn/\n",
        "\n",
        "Saabas, A. (2014). Selecting good features – Part III: random forests Retrieved from http://blog.datadive.net/selecting-good-features-part-iii-random-forests/\n",
        "\n",
        "scikit-learn. (n.d.). Feature importances with forests of trees Retrieved from http://scikit-learn.org/stable/auto_examples/ensemble/plot_forest_importances.html#sphx-glr-auto-examples-ensemble-plot-forest-importances-py"
      ]
    }
  ],
  "metadata": {
    "kernelspec": {
      "display_name": "Python 3",
      "language": "python",
      "name": "python3"
    },
    "language_info": {
      "codemirror_mode": {
        "name": "ipython",
        "version": 3
      },
      "file_extension": ".py",
      "mimetype": "text/x-python",
      "name": "python",
      "nbconvert_exporter": "python",
      "pygments_lexer": "ipython3",
      "version": "3.6.3"
    },
    "colab": {
      "provenance": []
    }
  },
  "nbformat": 4,
  "nbformat_minor": 0
}